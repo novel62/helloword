{
 "cells": [
  {
   "cell_type": "code",
   "execution_count": 1,
   "metadata": {},
   "outputs": [
    {
     "name": "stdout",
     "output_type": "stream",
     "text": [
      "['belajar', 'bahasa', 'python']\n",
      "[10, 20, 30]\n",
      "[20, 'belajar', 50]\n"
     ]
    }
   ],
   "source": [
    "kata=['belajar','bahasa','python']\n",
    "angka=[10,20,30]\n",
    "campur=[20,'belajar',50]\n",
    "print(kata)\n",
    "print(angka)\n",
    "print(campur)"
   ]
  },
  {
   "cell_type": "code",
   "execution_count": 2,
   "metadata": {},
   "outputs": [
    {
     "name": "stdout",
     "output_type": "stream",
     "text": [
      "['belajar', 30, 'python']\n"
     ]
    }
   ],
   "source": [
    "kata[1]=30\n",
    "print(kata)"
   ]
  },
  {
   "cell_type": "code",
   "execution_count": 3,
   "metadata": {},
   "outputs": [
    {
     "name": "stdout",
     "output_type": "stream",
     "text": [
      "('belajar', 'bahasa', 'python')\n",
      "(10, 20, 30)\n",
      "(20, 'belajar', 50)\n"
     ]
    }
   ],
   "source": [
    "kata=('belajar','bahasa','python')\n",
    "angka=(10,20,30)\n",
    "campur=(20,'belajar',50)\n",
    "print(kata)\n",
    "print(angka)\n",
    "print(campur)"
   ]
  },
  {
   "cell_type": "code",
   "execution_count": 5,
   "metadata": {},
   "outputs": [
    {
     "name": "stdout",
     "output_type": "stream",
     "text": [
      "('belajar', 'bahasa', 'python')\n"
     ]
    }
   ],
   "source": [
    "print(kata)"
   ]
  },
  {
   "cell_type": "code",
   "execution_count": 6,
   "metadata": {},
   "outputs": [
    {
     "name": "stdout",
     "output_type": "stream",
     "text": [
      "{1: 'Belajar', 2: ['C++', 'Python'], 'Di Kampus': 'UBSI', 'menyerah': False, 'Tahun': 2021}\n"
     ]
    }
   ],
   "source": [
    "data = {1:\"Belajar\",\n",
    "2: [\"C++\", \"Python\"],\n",
    "\"Di Kampus\": \"UBSI\",\n",
    "\"menyerah\" : False,\n",
    "\"Tahun\": 2021}\n",
    "print(data)"
   ]
  },
  {
   "cell_type": "code",
   "execution_count": 7,
   "metadata": {},
   "outputs": [],
   "source": [
    "data['Di Kampus']='purwokerto'"
   ]
  },
  {
   "cell_type": "code",
   "execution_count": 8,
   "metadata": {},
   "outputs": [
    {
     "name": "stdout",
     "output_type": "stream",
     "text": [
      "{1: 'Belajar', 2: ['C++', 'Python'], 'Di Kampus': 'purwokerto', 'menyerah': False, 'Tahun': 2021}\n"
     ]
    }
   ],
   "source": [
    "print(data)"
   ]
  },
  {
   "cell_type": "code",
   "execution_count": 12,
   "metadata": {},
   "outputs": [],
   "source": [
    "data[2,0]='java'"
   ]
  },
  {
   "cell_type": "code",
   "execution_count": 13,
   "metadata": {},
   "outputs": [
    {
     "name": "stdout",
     "output_type": "stream",
     "text": [
      "{1: 'Belajar', 2: ['C++', 'Python'], 'Di Kampus': 'purwokerto', 'menyerah': False, 'Tahun': 2021, (2, 0): 'java'}\n"
     ]
    }
   ],
   "source": [
    "print(data)"
   ]
  },
  {
   "cell_type": "code",
   "execution_count": 18,
   "metadata": {},
   "outputs": [
    {
     "data": {
      "text/plain": [
       "['C++', 'Python']"
      ]
     },
     "execution_count": 18,
     "metadata": {},
     "output_type": "execute_result"
    }
   ],
   "source": [
    "data[2]"
   ]
  },
  {
   "cell_type": "code",
   "execution_count": 20,
   "metadata": {},
   "outputs": [
    {
     "data": {
      "text/plain": [
       "['C++', 'Python']"
      ]
     },
     "execution_count": 20,
     "metadata": {},
     "output_type": "execute_result"
    }
   ],
   "source": [
    "data[2]"
   ]
  },
  {
   "cell_type": "code",
   "execution_count": 21,
   "metadata": {},
   "outputs": [],
   "source": [
    "kata = 'Aisah Zahra'"
   ]
  },
  {
   "cell_type": "code",
   "execution_count": 24,
   "metadata": {},
   "outputs": [
    {
     "name": "stdout",
     "output_type": "stream",
     "text": [
      "6\n"
     ]
    }
   ],
   "source": [
    "print(kata.index('Z'))"
   ]
  },
  {
   "cell_type": "code",
   "execution_count": 26,
   "metadata": {},
   "outputs": [
    {
     "name": "stdout",
     "output_type": "stream",
     "text": [
      "0\n"
     ]
    }
   ],
   "source": [
    "print(kata.index('A'))"
   ]
  },
  {
   "cell_type": "code",
   "execution_count": 27,
   "metadata": {},
   "outputs": [
    {
     "name": "stdout",
     "output_type": "stream",
     "text": [
      "3 / 2 + 5.5 =  7.0\n"
     ]
    }
   ],
   "source": [
    "print(\"3 / 2 + 5.5 = \", 3 / 2 + 5.5)"
   ]
  },
  {
   "cell_type": "code",
   "execution_count": 29,
   "metadata": {},
   "outputs": [
    {
     "name": "stdout",
     "output_type": "stream",
     "text": [
      "nilai a =7\n",
      "nilai b =5\n",
      "hasil c = 2\n",
      "hasil d = 35\n"
     ]
    }
   ],
   "source": [
    "a=eval(input('nilai a ='))\n",
    "b=eval(input('nilai b ='))\n",
    "c=a%b\n",
    "d=a*b\n",
    "print('hasil c =', c)\n",
    "print('hasil d =', d)"
   ]
  },
  {
   "cell_type": "code",
   "execution_count": 30,
   "metadata": {},
   "outputs": [
    {
     "name": "stdout",
     "output_type": "stream",
     "text": [
      "False\n"
     ]
    }
   ],
   "source": [
    "a=5\n",
    "b=a+3\n",
    "c=a>b\n",
    "print(c)"
   ]
  },
  {
   "cell_type": "code",
   "execution_count": 31,
   "metadata": {},
   "outputs": [
    {
     "data": {
      "text/plain": [
       "True"
      ]
     },
     "execution_count": 31,
     "metadata": {},
     "output_type": "execute_result"
    }
   ],
   "source": [
    "a<b"
   ]
  },
  {
   "cell_type": "code",
   "execution_count": 32,
   "metadata": {},
   "outputs": [
    {
     "data": {
      "text/plain": [
       "True"
      ]
     },
     "execution_count": 32,
     "metadata": {},
     "output_type": "execute_result"
    }
   ],
   "source": [
    "a!=b"
   ]
  },
  {
   "cell_type": "code",
   "execution_count": 42,
   "metadata": {},
   "outputs": [
    {
     "name": "stdout",
     "output_type": "stream",
     "text": [
      "masukan nil a =3\n",
      "masukan nil b =8\n",
      "masukan nil c =5\n"
     ]
    }
   ],
   "source": [
    "a=eval(input('masukan nil a ='))\n",
    "b=eval(input('masukan nil b ='))\n",
    "c=eval(input('masukan nil c ='))\n",
    "d = a+4<10;\n",
    "e = b>a+5;\n",
    "f = c-3>=4;\n",
    "g = d | e | f"
   ]
  },
  {
   "cell_type": "code",
   "execution_count": 44,
   "metadata": {},
   "outputs": [
    {
     "name": "stdout",
     "output_type": "stream",
     "text": [
      "hasil d= True\n",
      "hasil e= False\n",
      "hasil f= False\n",
      "hasil g= True\n"
     ]
    }
   ],
   "source": [
    "print('hasil d=',d)\n",
    "print('hasil e=',e)\n",
    "print('hasil f=',f)\n",
    "print('hasil g=',g)"
   ]
  },
  {
   "cell_type": "code",
   "execution_count": 45,
   "metadata": {},
   "outputs": [
    {
     "name": "stdout",
     "output_type": "stream",
     "text": [
      "hasil g= True\n"
     ]
    }
   ],
   "source": [
    "g = d ^ e ^ f\n",
    "print('hasil g=',g)"
   ]
  },
  {
   "cell_type": "code",
   "execution_count": 49,
   "metadata": {},
   "outputs": [
    {
     "name": "stdout",
     "output_type": "stream",
     "text": [
      "masukan nil a =3\n",
      "masukan nil b =10\n"
     ]
    }
   ],
   "source": [
    "a=eval(input('masukan nil a ='))\n",
    "b=eval(input('masukan nil b ='))\n",
    "d = a+4<10\n",
    "e = b>a+5"
   ]
  },
  {
   "cell_type": "code",
   "execution_count": 50,
   "metadata": {},
   "outputs": [
    {
     "name": "stdout",
     "output_type": "stream",
     "text": [
      "hasil d = True\n",
      "hasil e = True\n"
     ]
    }
   ],
   "source": [
    "print('hasil d =',d)\n",
    "print('hasil e =',e)"
   ]
  },
  {
   "cell_type": "code",
   "execution_count": 51,
   "metadata": {},
   "outputs": [
    {
     "name": "stdout",
     "output_type": "stream",
     "text": [
      "hasil h = False\n"
     ]
    }
   ],
   "source": [
    "h=d^e\n",
    "print('hasil h =',h)"
   ]
  },
  {
   "cell_type": "code",
   "execution_count": 3,
   "metadata": {},
   "outputs": [
    {
     "name": "stdout",
     "output_type": "stream",
     "text": [
      "masukkan nil x =4\n"
     ]
    }
   ],
   "source": [
    "x=int(input('masukkan nil x ='))"
   ]
  },
  {
   "cell_type": "code",
   "execution_count": 4,
   "metadata": {},
   "outputs": [],
   "source": [
    "x=x<<1"
   ]
  },
  {
   "cell_type": "code",
   "execution_count": 5,
   "metadata": {},
   "outputs": [
    {
     "name": "stdout",
     "output_type": "stream",
     "text": [
      "8\n"
     ]
    }
   ],
   "source": [
    "print(x)"
   ]
  },
  {
   "cell_type": "markdown",
   "metadata": {},
   "source": [
    "4 = 0100, geser kekiri 1 kali maka 0 yang paling kiri pindah ke kanan menjadi 1000 artinya desimalnya = 8"
   ]
  },
  {
   "cell_type": "code",
   "execution_count": null,
   "metadata": {},
   "outputs": [],
   "source": []
  }
 ],
 "metadata": {
  "kernelspec": {
   "display_name": "Python 3",
   "language": "python",
   "name": "python3"
  },
  "language_info": {
   "codemirror_mode": {
    "name": "ipython",
    "version": 3
   },
   "file_extension": ".py",
   "mimetype": "text/x-python",
   "name": "python",
   "nbconvert_exporter": "python",
   "pygments_lexer": "ipython3",
   "version": "3.8.3"
  }
 },
 "nbformat": 4,
 "nbformat_minor": 4
}
