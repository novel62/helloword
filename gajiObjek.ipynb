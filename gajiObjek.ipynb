{
 "cells": [
  {
   "cell_type": "markdown",
   "metadata": {},
   "source": [
    "# PROGRAM KENA PAJAK\n",
    "## {Menentukan kena pajak atau tidak apabila input data tersebut diberikan}\n",
    "# DEKLARASI\n",
    "string keterangan\n",
    "long gaji\n",
    "# DESKRIPSI\n",
    "## Baca gaji\n",
    "## total_penghasilan = gaji * 12\n",
    "## IF total_penghasilan >=15600000 THEN\n",
    "## keterangan=”Kena Pajak”\n",
    "## ELSE\n",
    "## Keterangan = ”Tidak Kena Pajak”\n",
    "## Cetak keterangan"
   ]
  },
  {
   "cell_type": "code",
   "execution_count": 1,
   "metadata": {},
   "outputs": [
    {
     "name": "stdout",
     "output_type": "stream",
     "text": [
      "masukkan gaji :7000\n",
      "keterangannya adalah :Tidak kena pajak\n"
     ]
    }
   ],
   "source": [
    "gaji=int(input('masukkan gaji :'))\n",
    "ttl_penghasilan=gaji*12\n",
    "if ttl_penghasilan >= 15600000:\n",
    "    ket='Kena pajak'\n",
    "else:\n",
    "    ket='Tidak kena pajak'\n",
    "print(f'keterangannya adalah :{ket}')"
   ]
  },
  {
   "cell_type": "code",
   "execution_count": 2,
   "metadata": {},
   "outputs": [
    {
     "name": "stdout",
     "output_type": "stream",
     "text": [
      "jawab negatif\n"
     ]
    }
   ],
   "source": [
    "var = -6\n",
    "if var > 0:\n",
    "    print( \"jawab positif\")\n",
    "elif var < 0:\n",
    "    print (\"jawab negatif\")\n",
    "else :\n",
    "    print (\"jawab adl 0.\")\n",
    "    "
   ]
  },
  {
   "cell_type": "markdown",
   "metadata": {},
   "source": [
    "## SIMPLE SELECTION TANPA CABANG :"
   ]
  },
  {
   "cell_type": "code",
   "execution_count": 2,
   "metadata": {},
   "outputs": [
    {
     "name": "stdout",
     "output_type": "stream",
     "text": [
      "Masukan Nilai Anda: 80\n",
      "Selamat Anda Lulus Ujian\n"
     ]
    }
   ],
   "source": [
    "Nilai = input('Masukan Nilai Anda: ')\n",
    "if Nilai >= '70':\n",
    "    print('Selamat Anda Lulus Ujian')"
   ]
  },
  {
   "cell_type": "markdown",
   "metadata": {},
   "source": [
    "## SIMPLE SELECTION BERCABANG:"
   ]
  },
  {
   "cell_type": "code",
   "execution_count": 3,
   "metadata": {},
   "outputs": [
    {
     "name": "stdout",
     "output_type": "stream",
     "text": [
      "Masukan Sebuah Bilangan: 5\n",
      "Bilangan 5 adalah ganjil .\n"
     ]
    }
   ],
   "source": [
    "bilangan = int(input('Masukan Sebuah Bilangan: '))\n",
    "if bilangan % 2 == 0:\n",
    "    print(\"Bilangan {} adalah genap.\".format(bilangan))\n",
    "else:\n",
    "    print(\"Bilangan {} adalah ganjil .\".format(bilangan))"
   ]
  },
  {
   "cell_type": "markdown",
   "metadata": {},
   "source": [
    "# Linear Nested IF:\n",
    "## IF ukuran = ’s’ THEN\n",
    "## harga = 35000\n",
    "## ELSE IF ukuran = ’m’ THEN\n",
    "## harga = 50000\n",
    "## ELSE\n",
    "## harga = 70000"
   ]
  },
  {
   "cell_type": "code",
   "execution_count": 3,
   "metadata": {},
   "outputs": [
    {
     "name": "stdout",
     "output_type": "stream",
     "text": [
      "masukkan ukuran baju :m\n",
      "harga baju adalah :50000\n"
     ]
    }
   ],
   "source": [
    "ukuran=input('masukkan ukuran baju :')\n",
    "if ukuran=='s':\n",
    "    harga=35000\n",
    "elif ukuran=='m':\n",
    "    harga=50000\n",
    "else:\n",
    "    harga=70000\n",
    "print(f'harga baju adalah :{harga}')"
   ]
  },
  {
   "cell_type": "markdown",
   "metadata": {},
   "source": [
    "# Perintah Case:"
   ]
  },
  {
   "cell_type": "code",
   "execution_count": 15,
   "metadata": {},
   "outputs": [
    {
     "name": "stdout",
     "output_type": "stream",
     "text": [
      "Menu Makanan \n",
      ".............\n",
      "1. Nasi Goreng\n",
      "2. Mie Goreng\n",
      "3. Capcay \n",
      "Pilihan Makanan [1-3]: 3\n",
      "Capcay\n"
     ]
    }
   ],
   "source": [
    "def satu():\n",
    "    print('Nasi Goreng')\n",
    "def dua():\n",
    "    print('Mie Goreng')\n",
    "def tiga():\n",
    "    print('Capcay')\n",
    "print(\"Menu Makanan \")\n",
    "print(\".............\")\n",
    "print(\"1. Nasi Goreng\")\n",
    "print(\"2. Mie Goreng\")\n",
    "print(\"3. Capcay \")\n",
    "switch = {\n",
    "    '1': satu,\n",
    "    '2': dua,\n",
    "    '3': tiga\n",
    "}\n",
    "case = input(\"Pilihan Makanan [1-3]: \")\n",
    "switch[case]()"
   ]
  },
  {
   "cell_type": "code",
   "execution_count": 2,
   "metadata": {},
   "outputs": [
    {
     "name": "stdout",
     "output_type": "stream",
     "text": [
      "masukan string ='masakan enak'\n",
      "'kane nakasam'"
     ]
    }
   ],
   "source": [
    "str=input(\"masukan string =\")\n",
    "indek=len(str)-1\n",
    "while indek >=0:\n",
    "    print(str[indek],end='')\n",
    "    indek=indek-1"
   ]
  },
  {
   "cell_type": "code",
   "execution_count": 8,
   "metadata": {},
   "outputs": [
    {
     "name": "stdout",
     "output_type": "stream",
     "text": [
      "Name : Zara, Salary: 2000\n",
      "Name : Manni, Salary: 5000\n",
      "Total Employee : 2 \n"
     ]
    }
   ],
   "source": [
    "class Employee:\n",
    "    'Common base class for all employees'\n",
    "    empCount = 0\n",
    "\n",
    "    def __init__(self, name, salary):\n",
    "        self.name = name\n",
    "        self.salary = salary\n",
    "        Employee.empCount += 1\n",
    "\n",
    "    def displayCount(self):\n",
    "        print(\"Total Employee %d\" % Employee.empCount)\n",
    "\n",
    "    def displayEmployee(self):\n",
    "        print(f\"Name : {self.name}, Salary: {self.salary}\")\n",
    "\n",
    "\n",
    "# membuat objek ke pertama:\n",
    "emp1 = Employee(\"Zara\", 2000)\n",
    "# membuat objek ke dua:\n",
    "emp2 = Employee(\"Manni\", 5000)\n",
    "# memanggil fungsi displayEmployee dengan objek:\n",
    "emp1.displayEmployee()\n",
    "emp2.displayEmployee()\n",
    "print(\"Total Employee : %d \" % Employee.empCount)"
   ]
  },
  {
   "cell_type": "code",
   "execution_count": 9,
   "metadata": {},
   "outputs": [
    {
     "name": "stdout",
     "output_type": "stream",
     "text": [
      "masukkan karakter = y\n",
      "masukkan integer = 8\n",
      "masukkan karakter lagi = q\n",
      "nilai adl = 8\n",
      "bye\n"
     ]
    }
   ],
   "source": [
    "def n_chars(c,n):\n",
    "    while n==0:\n",
    "        print(c)\n",
    "ch=input(\"masukkan karakter = \")\n",
    "while ch!='q':\n",
    "    angka=int(input('masukkan angka = '))\n",
    "    n_chars(ch,angka)\n",
    "    ch=input(\"masukkan karakter lagi = \")\n",
    "print(\"nilai adl =\",angka)\n",
    "print(\"bye\")"
   ]
  },
  {
   "cell_type": "code",
   "execution_count": 3,
   "metadata": {},
   "outputs": [
    {
     "name": "stdout",
     "output_type": "stream",
     "text": [
      "panjang =  15\n",
      "lebar =  6\n",
      "keliling = 42\n",
      "Luas adalah =  90\n"
     ]
    }
   ],
   "source": [
    "class Tkotak:\n",
    "    def __init__(self,nPanj,nLeb):\n",
    "        self.panjang=nPanj\n",
    "        self.lebar=nLeb\n",
    "    def keliling(self):\n",
    "        return 2*(self.panjang+self.lebar)\n",
    "    def luas(self):\n",
    "        return self.panjang*self.lebar\n",
    "    def ctkkel(self):\n",
    "        print('keliling =',self.keliling())\n",
    "kotak=Tkotak(15,6)# Tkotak kotak= new Tkotak(10,7) dalam java\n",
    "print(\"panjang = \",kotak.panjang)\n",
    "print(\"lebar = \",kotak.lebar)\n",
    "kotak.ctkkel()\n",
    "print(\"Luas adalah = \",kotak.luas())\n"
   ]
  },
  {
   "cell_type": "code",
   "execution_count": 5,
   "metadata": {},
   "outputs": [
    {
     "name": "stdout",
     "output_type": "stream",
     "text": [
      "1 3 5 7 9 11 13 15 17 19 "
     ]
    }
   ],
   "source": [
    "class Bilangan():\n",
    "    def menaik(self):\n",
    "        bil=1\n",
    "        while(bil<20):\n",
    "            print(bil,end=' ')\n",
    "            bil=bil+2\n",
    "angka= Bilangan()\n",
    "angka.menaik()"
   ]
  },
  {
   "cell_type": "code",
   "execution_count": null,
   "metadata": {},
   "outputs": [],
   "source": [
    "#|===================================|\n",
    "#|Aplikasi Penggajian Python\t     |\n",
    "#|Coded by : Dias Taufik Rahman\t     |\n",
    "#|Mail : mydisha@hacker-newbie.org   |\n",
    "#|Universitas Gunadarma\t\t     |\n",
    "#|===================================|\n",
    "import os\n",
    "import sys\n",
    "def pindah(label):\n",
    "    global nomor\n",
    "    nomor = label\n",
    "\n",
    "def clearscreen():\n",
    "    os.system('cls')\n",
    "\n",
    "def keluar():\n",
    "    sys.exit()\n",
    "\n",
    "def ulang():\n",
    "    ulang = input(\"Apakah anda ingin mengulang  lagi ? [y/n] \")\n",
    "    if ulang == \"y\" or ulang == \"Y\" :\n",
    "        pindah(0)\n",
    "        clearscreen()\n",
    "    elif ulang == \"n\" or ulang == \"N\" :\n",
    "        clearscreen()\n",
    "        keluar()\n",
    "    else :\n",
    "        keluar()\n",
    "\n",
    "def rumus():\n",
    "    global anak, gapok, gajikotor, hitunglembur, hitunganak, persen, total\n",
    "    anak = 200000\n",
    "    hitunglembur = jumlem * lembur\n",
    "    if jumanak > 3 :\n",
    "        hitunganak = 3 * anak\n",
    "    else :\n",
    "        hitunganak = jumanak * anak\n",
    "\n",
    "    gajikotor = gapok + hitunglembur + hitunganak \n",
    "    persen = (gajikotor * 5) / 100\n",
    "    total = gajikotor - persen\n",
    "\n",
    "def cetak():\n",
    "    print ('=========================================')\n",
    "    print (\"      Aplikasi Penggajian Karyawan\")\n",
    "    print (\"=========================================\")\n",
    "    print (\"| Nama : \\n\", nama)\n",
    "    print (\"| NIP : \", nip)\n",
    "    print (\"| Jabatan : \" , jabatan) \n",
    "    print (\"| Gaji Gaji Kotor adalah : Rp. \", gajikotor)\n",
    "    print (\"| Potongan 5% : Rp. \", persen )\n",
    "    print (\"\")\n",
    "    print (\"=>> Gaji Bersih adalah : Rp. \", total)\n",
    "    print (\"\")\n",
    "\n",
    "nomor = 0\n",
    "\n",
    "while True :\n",
    "\n",
    "    if nomor == 0 :\n",
    "        clearscreen()\n",
    "        print (\"----------------------------\")\n",
    "        print (\"Aplikasi Penggajian Karyawan\")\n",
    "        print (\"----------------------------\")\n",
    "        print (\"\")\n",
    "        nama = input(\"Masukkan nama : \")\n",
    "        nip = input(\"Masukkan NIP : \")\n",
    "        golongan = int(input(\"Golongan : \"))\n",
    "        jumanak = int(input(\"Jumlah Anak : \"))\n",
    "        jumlem = int(input(\"Jumlah Lembur : \"))\n",
    "        if golongan == 1 :\n",
    "            pindah(1)\n",
    "        elif golongan == 2 :\n",
    "            pindah(2)\n",
    "        elif golongan == 3 :\n",
    "            pindah(3)\n",
    "        elif golongan == 4 :\n",
    "            pindah(4)\n",
    "        else :\n",
    "            pindah(0)\n",
    "\n",
    "    elif nomor == 1 :\n",
    "        jabatan = \"Direktur\"\n",
    "        gapok = 8000000\n",
    "        lembur = 100000\n",
    "        clearscreen()\n",
    "        rumus()\n",
    "        cetak()\n",
    "        ulang()\n",
    "\n",
    "    elif nomor == 2 :\n",
    "        jabatan = \"Manajer\"\n",
    "        gapok = 6000000\n",
    "        lembur = 80000\n",
    "        clearscreen()\n",
    "        rumus()\n",
    "        cetak()\n",
    "        ulang()\n",
    "\n",
    "    elif nomor == 3 :\n",
    "        jabatan = \"Superviser\"\n",
    "        gapok = 4000000\n",
    "        lembur = 60000\n",
    "        clearscreen()\n",
    "        rumus()\n",
    "        cetak()\n",
    "        ulang()\n",
    "\n",
    "    elif nomor == 4 :\n",
    "        jabatan = \"Operator\"\n",
    "        gapok = 2000000\n",
    "        lembur = 40000\n",
    "        clearscreen()\n",
    "        rumus()\n",
    "        cetak()\n",
    "        ulang()\n",
    "    else :\n",
    "        keluar()"
   ]
  },
  {
   "cell_type": "code",
   "execution_count": 7,
   "metadata": {},
   "outputs": [
    {
     "name": "stdout",
     "output_type": "stream",
     "text": [
      "Memanggil konstruktor Anak\n",
      "Memanggil metode Anak\n",
      "Memanggil metode induk\n",
      "Attribut induk : 200\n"
     ]
    }
   ],
   "source": [
    "class Induk: # mendefinisikan kelas Induk\n",
    "    parent_attr = 100\n",
    "\n",
    "    def __init__(self):\n",
    "        print (\"Memanggil konstruktor induk\")\n",
    "\n",
    "    def parent_method(self):\n",
    "        print ('Memanggil metode induk')\n",
    "\n",
    "    def set_attr(self, attr):\n",
    "        Induk.parent_attr = attr\n",
    "\n",
    "    def get_attr(self):\n",
    "        print (\"Attribut induk :\", Induk.parent_attr)\n",
    "\n",
    "class Anak(Induk): # mendefinisikan kelas Anak\n",
    "    def __init__(self):\n",
    "        print (\"Memanggil konstruktor Anak\")\n",
    "\n",
    "    def child_method(self):\n",
    "        print ('Memanggil metode Anak')\n",
    "\n",
    "c = Anak() # instansiasi kelas Anak\n",
    "c.child_method() # Anak memanggil metodenya\n",
    "\n",
    "c.parent_method() # memanggil metode Induk\n",
    "c.set_attr(200) # kembali memanggil metode Induk\n",
    "c.get_attr() # kembali memanggil metode Induk"
   ]
  },
  {
   "cell_type": "code",
   "execution_count": 12,
   "metadata": {},
   "outputs": [
    {
     "name": "stdout",
     "output_type": "stream",
     "text": [
      "luas segitiga =10.0\n",
      "luas bujur sangkar = 36\n"
     ]
    }
   ],
   "source": [
    "class sawah: #mendefinisikan kelas abstrack\n",
    "    def __init__(self,jum):\n",
    "        self.jum=jum\n",
    "    def getJum(self):\n",
    "        return self.jum\n",
    "    def setJum(self,jum):\n",
    "        self.jum=jum\n",
    "class segitiga(sawah):\n",
    "    def __init__(self,jum,alas, tinggi):\n",
    "        super(sawah,self).__init__()\n",
    "        self.alas=alas\n",
    "        self.tinggi=tinggi\n",
    "    def getArea(self, alas,tinggi):\n",
    "        return 0.5 * self.alas*self.tinggi\n",
    "class bujursangkar(sawah):\n",
    "    def __init__(self,jum, sisi):\n",
    "        super(sawah,self).__init__()\n",
    "        self.sisi=sisi\n",
    "    def getArea(self,sisi):\n",
    "        return self.sisi*self.sisi\n",
    "st=segitiga(2, 5, 4)\n",
    "print(f'luas segitiga ={st.getArea(5,4)}')\n",
    "bs=bujursangkar(3, 6)\n",
    "print(f'luas bujur sangkar = {bs.getArea(6)}')"
   ]
  },
  {
   "cell_type": "code",
   "execution_count": 22,
   "metadata": {},
   "outputs": [
    {
     "name": "stdout",
     "output_type": "stream",
     "text": [
      "Nip : 20008 \n",
      "\n",
      "Jam kerja : 50 \n",
      "\n",
      "upah/jam : 100 \n",
      "\n",
      "Upah mingguan  : 5750.0 \n",
      "\n",
      "Nip : 20008 \n",
      "\n",
      "upah/jam : 300 \n",
      "\n",
      "upah melebihi 250\n",
      "\n"
     ]
    }
   ],
   "source": [
    "from abc import ABC, abstractmethod\n",
    "class Daftargaji(ABC):\n",
    "    @abstractmethod \n",
    "    def gjMinggu(self):\n",
    "        pass\n",
    "    @abstractmethod\n",
    "    def tampilkan(self):\n",
    "        pass\n",
    "class Penggajian(Daftargaji):\n",
    "    def __init__(self,nip, jk, up):\n",
    "        self.nip=nip\n",
    "        self.jk=jk\n",
    "        self.up=up\n",
    "    def gjMinggu(self):\n",
    "        if(self.jk<=35):\n",
    "            self.um=self.up*self.jk\n",
    "        else:\n",
    "            self.ovj=self.jk-35\n",
    "            self.ovg=self.ovj*self.up*1.5\n",
    "            self.um=(self.up*35)+self.ovg\n",
    "        return self.um\n",
    "    def tampilkan(self):\n",
    "        if(self.jk<=60 and self.up<=250):\n",
    "            print(\"Nip :\",self.nip,'\\n')\n",
    "            print(\"Jam kerja :\",self.jk,'\\n')\n",
    "            print(\"upah/jam :\",self.up,'\\n')\n",
    "            print(\"Upah mingguan  :\",self.gjMinggu(),'\\n')\n",
    "        elif(self.jk>60):\n",
    "            print(\"Nip :\",self.nip,'\\n')\n",
    "            print(\"Jam kerja :\",self.jk,'\\n')\n",
    "            print(\"jam kerja melebihi 60 \\n\")\n",
    "        else:\n",
    "            print(\"Nip :\",self.nip,'\\n')\n",
    "            print(\"upah/jam :\",self.up,'\\n')\n",
    "            print(\"upah melebihi 250\\n\")\n",
    "obj=Penggajian(20008, 50, 100)\n",
    "obj.tampilkan()\n",
    "obj.jk=40\n",
    "obj.up=300\n",
    "obj.tampilkan()       "
   ]
  },
  {
   "cell_type": "code",
   "execution_count": 9,
   "metadata": {},
   "outputs": [
    {
     "name": "stdout",
     "output_type": "stream",
     "text": [
      "Nip : 2009 \n",
      "\n",
      "Jam kerja : 50 \n",
      "\n",
      "upah/jam : 100 \n",
      "\n",
      "Upah mingguan  : 5750.0\n"
     ]
    }
   ],
   "source": [
    "class Penggajian():\n",
    "    def __init__(self, nip, jk, up):\n",
    "        self.nip = nip\n",
    "        self.jk = jk\n",
    "        self.up = up\n",
    "    def gjMinggu(self):\n",
    "        if(self.jk<=35):\n",
    "            self.um=self.up*self.jk\n",
    "        else:\n",
    "            self.ovj=self.jk-35\n",
    "            self.ovg=self.ovj*self.up*1.5\n",
    "            self.um=(self.up*35)+self.ovg\n",
    "        return self.um\n",
    "    def tampilkan(self):\n",
    "        if(self.jk<=60 and self.up<=250):\n",
    "            print(\"Nip :\",self.nip,'\\n')\n",
    "            print(\"Jam kerja :\",self.jk,'\\n')\n",
    "            print(\"upah/jam :\",self.up,'\\n')\n",
    "            print(\"Upah mingguan  :\",self.gjMinggu())\n",
    "        elif(self.jk>60):\n",
    "            print(\"Nip :\",self.nip,'\\n')\n",
    "            print(\"Jam kerja :\",self.jk,'\\n')\n",
    "            print(\"jam kerja melebihi 60\")\n",
    "        else:\n",
    "            print(\"Nip :\",self.nip,'\\n')\n",
    "            print(\"upah/jam :\",self.up,'\\n')\n",
    "            print(\"upah melebihi 250\")\n",
    "obj=Penggajian(2009, 50, 100)\n",
    "obj.tampilkan()"
   ]
  },
  {
   "cell_type": "code",
   "execution_count": 1,
   "metadata": {},
   "outputs": [
    {
     "name": "stdout",
     "output_type": "stream",
     "text": [
      "merek motor : yamaha\n",
      "tahun : 2018\n",
      "nopol : R2345GA\n",
      "warna motor : Biru\n"
     ]
    }
   ],
   "source": [
    "class Motor():\n",
    "    def __init__(self,merk,tahun,nopol,warna):\n",
    "        self.merk=merk\n",
    "        self.thn=tahun\n",
    "        self.npol=nopol\n",
    "        self.warna=warna\n",
    "    def show_info_mtr(self):\n",
    "        print(\"merek motor :\",self.merk)\n",
    "        print(\"tahun :\",self.thn)\n",
    "        print(\"nopol :\",self.npol)\n",
    "        print(\"warna motor :\",self.warna)\n",
    "motor1=Motor('yamaha', 2018, 'R2345GA', 'Biru')\n",
    "motor1.show_info_mtr()"
   ]
  },
  {
   "cell_type": "code",
   "execution_count": null,
   "metadata": {},
   "outputs": [],
   "source": []
  }
 ],
 "metadata": {
  "kernelspec": {
   "display_name": "Python 3",
   "language": "python",
   "name": "python3"
  },
  "language_info": {
   "codemirror_mode": {
    "name": "ipython",
    "version": 3
   },
   "file_extension": ".py",
   "mimetype": "text/x-python",
   "name": "python",
   "nbconvert_exporter": "python",
   "pygments_lexer": "ipython3",
   "version": "3.8.3"
  }
 },
 "nbformat": 4,
 "nbformat_minor": 4
}
